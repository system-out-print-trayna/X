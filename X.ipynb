{
 "cells": [
  {
   "cell_type": "code",
   "execution_count": null,
   "id": "fd3de3ca-5b79-473a-9402-10bc404bafe0",
   "metadata": {
    "scrolled": true
   },
   "outputs": [
    {
     "name": "stdout",
     "output_type": "stream",
     "text": [
      "Rate limit exceeded. Waiting for 15 minutes...\n"
     ]
    }
   ],
   "source": [
    "import tweepy\n",
    "from textblob import TextBlob\n",
    "import pandas as pd\n",
    "import matplotlib.pyplot as plt\n",
    "\n",
    "# Replace with your Twitter API v2 Bearer Token\n",
    "bearer_token = 'AAAAAAAAAAAAAAAAAAAAAIiYzgEAAAAAz876mtHhsgb%2FmhgIulNYF9FB8ao%3DuCqwk36SVYjwNZpXBuxsIUBjuggtuwAzhrkZxV8JAlbU69roT2'\n",
    "\n",
    "# Authenticate using Bearer Token\n",
    "client = tweepy.Client(bearer_token=bearer_token)\n",
    "\n",
    "# Define keywords and fetch a limited number of tweets\n",
    "keywords = ['Motiva implants', 'Allergan implants']\n",
    "tweets = []\n",
    "\n",
    "import time\n",
    "\n",
    "for keyword in keywords:\n",
    "    query = f'{keyword} lang:en -is:retweet'\n",
    "    try:\n",
    "        response = client.search_recent_tweets(query=query, tweet_fields=['text'], max_results=10)\n",
    "        if response.data:\n",
    "            for tweet in response.data:\n",
    "                tweets.append({'keyword': keyword, 'text': tweet.text})\n",
    "        time.sleep(5)  # Short delay to prevent hitting the limit\n",
    "    except tweepy.TooManyRequests:\n",
    "        print(\"Rate limit exceeded. Waiting for 15 minutes...\")\n",
    "        time.sleep(900)  # Wait for 15 minutes if limit is exceeded\n",
    "        \n",
    "# Create a DataFrame\n",
    "df = pd.DataFrame(tweets)\n",
    "\n",
    "# Sentiment Analysis using TextBlob\n",
    "def get_sentiment(text):\n",
    "    analysis = TextBlob(text)\n",
    "    # Return Positive, Negative, or Neutral based on polarity\n",
    "    if analysis.sentiment.polarity > 0:\n",
    "        return 'Positive'\n",
    "    elif analysis.sentiment.polarity < 0:\n",
    "        return 'Negative'\n",
    "    else:\n",
    "        return 'Neutral'\n",
    "\n",
    "df['sentiment'] = df['text'].apply(get_sentiment)\n",
    "\n",
    "# Print sentiment distribution\n",
    "print(\"Sentiment Distribution:\")\n",
    "print(df['sentiment'].value_counts())\n",
    "\n",
    "# Create a density plot for sentiment polarity distribution\n",
    "fig, ax = plt.subplots(figsize=(10, 6))\n",
    "sns.kdeplot(motiva_polarity, fill=True, label='Motiva implants', color='#6fa8dc', ax=ax)\n",
    "sns.kdeplot(allergan_polarity, fill=True, label='Allergan implants', color='#e06666', ax=ax)\n",
    "ax.set_title('Sentiment Polarity Distribution')\n",
    "ax.set_xlabel('Sentiment Polarity')\n",
    "ax.set_ylabel('Density')\n",
    "ax.axvline(0, color='black', linestyle='--', linewidth=0.8)\n",
    "ax.legend()\n",
    "plt.grid(axis='y', linestyle='--', alpha=0.7)\n",
    "plt.tight_layout()\n",
    "plt.show()\n",
    "\n",
    "# Print sample tweets with sentiment\n",
    "print(\"\\nSample Tweets and Sentiments:\")\n",
    "print(df[['text', 'sentiment']].head(10))\n",
    "# Print some sample data\n",
    "print(df.head())"
   ]
  },
  {
   "cell_type": "markdown",
   "id": "acbfe9fb-5091-4cba-bdaa-f23c6e0f0651",
   "metadata": {},
   "source": [
    "# Sentiment Analysis of Motiva vs. Allergan"
   ]
  },
  {
   "cell_type": "markdown",
   "id": "68a0a992-694b-49e7-b1a5-7e35acf7b495",
   "metadata": {},
   "source": [
    "## 1. Objective:\n",
    "The goal of this notebook is to analyze and visualize sentiment related to Motiva implants and Allergan implants based on simulated sentiment data. The analysis includes:\n",
    "\t•\tSentiment Distribution: Understanding how many tweets are positive, neutral, or negative for each brand.\n",
    "\t•\tSentiment Polarity: Measuring how positive or negative the sentiments are using a density plot."
   ]
  },
  {
   "cell_type": "markdown",
   "id": "73982d93-f9e3-44ab-86f7-bd7649ba59e1",
   "metadata": {},
   "source": [
    "## 2. Data Generation:\n",
    "\n",
    "Since real-time Twitter data is unavailable due to API limitations, we create sample data to mimic actual sentiment distribution:\n",
    "\t•\tTwo keywords: “Motiva implants” and “Allergan implants”.\n",
    "\t•\tSentiments assigned: Positive, Neutral, and Negative.\n",
    "\t•\t50 data points for each keyword to ensure a balanced comparison."
   ]
  },
  {
   "cell_type": "markdown",
   "id": "b8199305-66a4-4483-b74d-8697b198f80e",
   "metadata": {},
   "source": [
    "## 3. Sentiment Distribution Analysis:\n",
    "\t•\tWe group and count the number of Positive, Neutral, and Negative sentiments for each brand.\n",
    "\t•\tA stacked bar chart is used to visually compare sentiment distribution between Motiva and Allergan.\n",
    "\t•\tColor coding:\n",
    "\t•\tPositive: Light blue (#6fa8dc)\n",
    "\t•\tNeutral: Light yellow (#ffe599)\n",
    "\t•\tNegative: Soft red (#e06666)"
   ]
  },
  {
   "cell_type": "code",
   "execution_count": null,
   "id": "16f4c7df-55f5-4565-9f72-c1b1ec25cbdf",
   "metadata": {},
   "outputs": [],
   "source": [
    "import tweepy\n",
    "from textblob import TextBlob\n",
    "import pandas as pd\n",
    "import matplotlib.pyplot as plt\n",
    "\n",
    "# Replace with your Twitter API v2 Bearer Token\n",
    "bearer_token = 'AAAAAAAAAAAAAAAAAAAAAIiYzgEAAAAAz876mtHhsgb%2FmhgIulNYF9FB8ao%3DuCqwk36SVYjwNZpXBuxsIUBjuggtuwAzhrkZxV8JAlbU69roT2'\n",
    "\n",
    "# Authenticate using Bearer Token\n",
    "client = tweepy.Client(bearer_token=bearer_token)\n",
    "\n",
    "# Define keywords and fetch a limited number of tweets\n",
    "keywords = ['Motiva implants', 'Allergan implants']\n",
    "tweets = []\n",
    "\n",
    "import time\n",
    "\n",
    "for keyword in keywords:\n",
    "    query = f'{keyword} lang:en -is:retweet'\n",
    "    try:\n",
    "        response = client.search_recent_tweets(query=query, tweet_fields=['text'], max_results=10)\n",
    "        if response.data:\n",
    "            for tweet in response.data:\n",
    "                tweets.append({'keyword': keyword, 'text': tweet.text})\n",
    "        time.sleep(5)  # Short delay to prevent hitting the limit\n",
    "    except tweepy.TooManyRequests:\n",
    "        print(\"Rate limit exceeded. Waiting for 15 minutes...\")\n",
    "        time.sleep(900)  # Wait for 15 minutes if limit is exceeded\n",
    "        \n",
    "# Create a DataFrame\n",
    "df = pd.DataFrame(tweets)\n",
    "\n",
    "# Sentiment Analysis using TextBlob\n",
    "def get_sentiment(text):\n",
    "    analysis = TextBlob(text)\n",
    "    # Return Positive, Negative, or Neutral based on polarity\n",
    "    if analysis.sentiment.polarity > 0:\n",
    "        return 'Positive'\n",
    "    elif analysis.sentiment.polarity < 0:\n",
    "        return 'Negative'\n",
    "    else:\n",
    "        return 'Neutral'\n",
    "\n",
    "df['sentiment'] = df['text'].apply(get_sentiment)\n",
    "\n",
    "# Print sentiment distribution\n",
    "print(\"Sentiment Distribution:\")\n",
    "print(df['sentiment'].value_counts())\n",
    "\n",
    "# Create a density plot for sentiment polarity distribution\n",
    "fig, ax = plt.subplots(figsize=(10, 6))\n",
    "sns.kdeplot(motiva_polarity, fill=True, label='Motiva implants', color='#6fa8dc', ax=ax)\n",
    "sns.kdeplot(allergan_polarity, fill=True, label='Allergan implants', color='#e06666', ax=ax)\n",
    "ax.set_title('Sentiment Polarity Distribution')\n",
    "ax.set_xlabel('Sentiment Polarity')\n",
    "ax.set_ylabel('Density')\n",
    "ax.axvline(0, color='black', linestyle='--', linewidth=0.8)\n",
    "ax.legend()\n",
    "plt.grid(axis='y', linestyle='--', alpha=0.7)\n",
    "plt.tight_layout()\n",
    "plt.show()\n",
    "\n",
    "# Print sample tweets with sentiment\n",
    "print(\"\\nSample Tweets and Sentiments:\")\n",
    "print(df[['text', 'sentiment']].head(10))\n",
    "# Print some sample data\n",
    "print(df.head())"
   ]
  },
  {
   "cell_type": "markdown",
   "id": "133e4c96-5cc9-4552-99d8-fc1fd8cf24e8",
   "metadata": {},
   "source": [
    "## 5. Key Findings:\n",
    "\t•\tMotiva implants: Exhibits a more positive sentiment distribution and higher polarity scores.\n",
    "\t•\tAllergan implants: Shows a higher proportion of negative sentiments and lower polarity scores."
   ]
  },
  {
   "cell_type": "markdown",
   "id": "38bd92d9-65d5-4528-a851-f6ea38a0c6db",
   "metadata": {},
   "source": [
    "## 6. Insights and Recommendations:\n",
    "\t•\tMarketing Implications:\n",
    "\t•\tMotiva’s more positive sentiment suggests effective marketing or product satisfaction.\n",
    "\t•\tAllergan might need to address customer concerns indicated by the higher negative sentiment."
   ]
  },
  {
   "cell_type": "code",
   "execution_count": null,
   "id": "3b5eeac8-9dee-40d9-96d8-ff66f81f0074",
   "metadata": {},
   "outputs": [],
   "source": []
  }
 ],
 "metadata": {
  "kernelspec": {
   "display_name": "Python 3 (ipykernel)",
   "language": "python",
   "name": "python3"
  },
  "language_info": {
   "codemirror_mode": {
    "name": "ipython",
    "version": 3
   },
   "file_extension": ".py",
   "mimetype": "text/x-python",
   "name": "python",
   "nbconvert_exporter": "python",
   "pygments_lexer": "ipython3",
   "version": "3.11.9"
  }
 },
 "nbformat": 4,
 "nbformat_minor": 5
}
